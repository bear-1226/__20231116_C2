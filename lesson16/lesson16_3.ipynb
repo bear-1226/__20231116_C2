{
 "cells": [
  {
   "cell_type": "code",
   "execution_count": 15,
   "metadata": {},
   "outputs": [
    {
     "data": {
      "text/html": [
       "<div>\n",
       "<style scoped>\n",
       "    .dataframe tbody tr th:only-of-type {\n",
       "        vertical-align: middle;\n",
       "    }\n",
       "\n",
       "    .dataframe tbody tr th {\n",
       "        vertical-align: top;\n",
       "    }\n",
       "\n",
       "    .dataframe thead th {\n",
       "        text-align: right;\n",
       "    }\n",
       "</style>\n",
       "<table border=\"1\" class=\"dataframe\">\n",
       "  <thead>\n",
       "    <tr style=\"text-align: right;\">\n",
       "      <th></th>\n",
       "      <th>徐國堂</th>\n",
       "      <th>徐家家</th>\n",
       "    </tr>\n",
       "  </thead>\n",
       "  <tbody>\n",
       "    <tr>\n",
       "      <th>chinese</th>\n",
       "      <td>78</td>\n",
       "      <td>92</td>\n",
       "    </tr>\n",
       "    <tr>\n",
       "      <th>english</th>\n",
       "      <td>80</td>\n",
       "      <td>60</td>\n",
       "    </tr>\n",
       "    <tr>\n",
       "      <th>math</th>\n",
       "      <td>92</td>\n",
       "      <td>85</td>\n",
       "    </tr>\n",
       "    <tr>\n",
       "      <th>history</th>\n",
       "      <td>75</td>\n",
       "      <td>62</td>\n",
       "    </tr>\n",
       "    <tr>\n",
       "      <th>discover</th>\n",
       "      <td>85</td>\n",
       "      <td>73</td>\n",
       "    </tr>\n",
       "  </tbody>\n",
       "</table>\n",
       "</div>"
      ],
      "text/plain": [
       "          徐國堂  徐家家\n",
       "chinese    78   92\n",
       "english    80   60\n",
       "math       92   85\n",
       "history    75   62\n",
       "discover   85   73"
      ]
     },
     "metadata": {},
     "output_type": "display_data"
    }
   ],
   "source": [
    "import pandas as pd\n",
    "\n",
    "scores = [\n",
    "    {'chinese':78,'english':80,'math':92,'history':75,'discover':85},\n",
    "    {'chinese':92,'english':60,'math':85,'history':62,'discover':73}\n",
    "]\n",
    "dataFrame = pd.DataFrame(index=[\"徐國堂\",\"徐家家\"],data=scores)\n",
    "display(dataFrame.T)"
   ]
  },
  {
   "cell_type": "code",
   "execution_count": 23,
   "metadata": {},
   "outputs": [
    {
     "name": "stderr",
     "output_type": "stream",
     "text": [
      "/home/vscode/.local/lib/python3.10/site-packages/IPython/core/pylabtools.py:152: UserWarning: Glyph 108 (l) missing from current font.\n",
      "  fig.canvas.print_figure(bytes_io, **kw)\n",
      "/home/vscode/.local/lib/python3.10/site-packages/IPython/core/pylabtools.py:152: UserWarning: Glyph 112 (p) missing from current font.\n",
      "  fig.canvas.print_figure(bytes_io, **kw)\n",
      "/home/vscode/.local/lib/python3.10/site-packages/IPython/core/pylabtools.py:152: UserWarning: Glyph 54 (6) missing from current font.\n",
      "  fig.canvas.print_figure(bytes_io, **kw)\n",
      "/home/vscode/.local/lib/python3.10/site-packages/IPython/core/pylabtools.py:152: UserWarning: Glyph 48 (0) missing from current font.\n",
      "  fig.canvas.print_figure(bytes_io, **kw)\n",
      "/home/vscode/.local/lib/python3.10/site-packages/IPython/core/pylabtools.py:152: UserWarning: Glyph 53 (5) missing from current font.\n",
      "  fig.canvas.print_figure(bytes_io, **kw)\n",
      "/home/vscode/.local/lib/python3.10/site-packages/IPython/core/pylabtools.py:152: UserWarning: Glyph 55 (7) missing from current font.\n",
      "  fig.canvas.print_figure(bytes_io, **kw)\n",
      "/home/vscode/.local/lib/python3.10/site-packages/IPython/core/pylabtools.py:152: UserWarning: Glyph 56 (8) missing from current font.\n",
      "  fig.canvas.print_figure(bytes_io, **kw)\n",
      "/home/vscode/.local/lib/python3.10/site-packages/IPython/core/pylabtools.py:152: UserWarning: Glyph 57 (9) missing from current font.\n",
      "  fig.canvas.print_figure(bytes_io, **kw)\n",
      "/home/vscode/.local/lib/python3.10/site-packages/IPython/core/pylabtools.py:152: UserWarning: Glyph 99 (c) missing from current font.\n",
      "  fig.canvas.print_figure(bytes_io, **kw)\n",
      "/home/vscode/.local/lib/python3.10/site-packages/IPython/core/pylabtools.py:152: UserWarning: Glyph 104 (h) missing from current font.\n",
      "  fig.canvas.print_figure(bytes_io, **kw)\n",
      "/home/vscode/.local/lib/python3.10/site-packages/IPython/core/pylabtools.py:152: UserWarning: Glyph 105 (i) missing from current font.\n",
      "  fig.canvas.print_figure(bytes_io, **kw)\n",
      "/home/vscode/.local/lib/python3.10/site-packages/IPython/core/pylabtools.py:152: UserWarning: Glyph 110 (n) missing from current font.\n",
      "  fig.canvas.print_figure(bytes_io, **kw)\n",
      "/home/vscode/.local/lib/python3.10/site-packages/IPython/core/pylabtools.py:152: UserWarning: Glyph 101 (e) missing from current font.\n",
      "  fig.canvas.print_figure(bytes_io, **kw)\n",
      "/home/vscode/.local/lib/python3.10/site-packages/IPython/core/pylabtools.py:152: UserWarning: Glyph 115 (s) missing from current font.\n",
      "  fig.canvas.print_figure(bytes_io, **kw)\n",
      "/home/vscode/.local/lib/python3.10/site-packages/IPython/core/pylabtools.py:152: UserWarning: Glyph 103 (g) missing from current font.\n",
      "  fig.canvas.print_figure(bytes_io, **kw)\n",
      "/home/vscode/.local/lib/python3.10/site-packages/IPython/core/pylabtools.py:152: UserWarning: Glyph 109 (m) missing from current font.\n",
      "  fig.canvas.print_figure(bytes_io, **kw)\n",
      "/home/vscode/.local/lib/python3.10/site-packages/IPython/core/pylabtools.py:152: UserWarning: Glyph 97 (a) missing from current font.\n",
      "  fig.canvas.print_figure(bytes_io, **kw)\n",
      "/home/vscode/.local/lib/python3.10/site-packages/IPython/core/pylabtools.py:152: UserWarning: Glyph 116 (t) missing from current font.\n",
      "  fig.canvas.print_figure(bytes_io, **kw)\n",
      "/home/vscode/.local/lib/python3.10/site-packages/IPython/core/pylabtools.py:152: UserWarning: Glyph 111 (o) missing from current font.\n",
      "  fig.canvas.print_figure(bytes_io, **kw)\n",
      "/home/vscode/.local/lib/python3.10/site-packages/IPython/core/pylabtools.py:152: UserWarning: Glyph 114 (r) missing from current font.\n",
      "  fig.canvas.print_figure(bytes_io, **kw)\n",
      "/home/vscode/.local/lib/python3.10/site-packages/IPython/core/pylabtools.py:152: UserWarning: Glyph 121 (y) missing from current font.\n",
      "  fig.canvas.print_figure(bytes_io, **kw)\n",
      "/home/vscode/.local/lib/python3.10/site-packages/IPython/core/pylabtools.py:152: UserWarning: Glyph 100 (d) missing from current font.\n",
      "  fig.canvas.print_figure(bytes_io, **kw)\n",
      "/home/vscode/.local/lib/python3.10/site-packages/IPython/core/pylabtools.py:152: UserWarning: Glyph 118 (v) missing from current font.\n",
      "  fig.canvas.print_figure(bytes_io, **kw)\n",
      "/home/vscode/.local/lib/python3.10/site-packages/IPython/core/pylabtools.py:152: UserWarning: Glyph 24464 (\\N{CJK UNIFIED IDEOGRAPH-5F90}) missing from current font.\n",
      "  fig.canvas.print_figure(bytes_io, **kw)\n",
      "/home/vscode/.local/lib/python3.10/site-packages/IPython/core/pylabtools.py:152: UserWarning: Glyph 22283 (\\N{CJK UNIFIED IDEOGRAPH-570B}) missing from current font.\n",
      "  fig.canvas.print_figure(bytes_io, **kw)\n",
      "/home/vscode/.local/lib/python3.10/site-packages/IPython/core/pylabtools.py:152: UserWarning: Glyph 22530 (\\N{CJK UNIFIED IDEOGRAPH-5802}) missing from current font.\n",
      "  fig.canvas.print_figure(bytes_io, **kw)\n",
      "/home/vscode/.local/lib/python3.10/site-packages/IPython/core/pylabtools.py:152: UserWarning: Glyph 23478 (\\N{CJK UNIFIED IDEOGRAPH-5BB6}) missing from current font.\n",
      "  fig.canvas.print_figure(bytes_io, **kw)\n"
     ]
    },
    {
     "data": {
      "image/png": "[encoded data removed]",
      "text/plain": [
       "<Figure size 640x480 with 1 Axes>"
      ]
     },
     "metadata": {},
     "output_type": "display_data"
    }
   ],
   "source": [
    "import matplotlib.pyplot as plt\n",
    "from matplotlib.font_manager import FontProperties\n",
    "#windos\n",
    "#font=FontProperties(fname=r'c:\\windows\\fonts\\simsun.ttc',size=8)\n",
    "#mac\n",
    "#font=FontProperties(fname='/Library/Fonts/Arial Unicode.ttf',size=8)\n",
    "#codespace\n",
    "#font=FontProperties(fname=r'/usr/share/fonts/truetype/wqy/wqy-zenhei.ttc',size=8)\n",
    "\n",
    "\n",
    "figure = plt.figure()\n",
    "axes = figure.add_subplot(1,1,1)\n",
    "dataFrame.T.plot(ax=axes,style=['--','-'],marker='o')\n",
    "axes.set_title('徐國堂和徐家家分數比較表',fontproperties=font)\n",
    "axes.grid(visible=True,axis='y')\n",
    "plt.show()"
   ]
  },
  {
   "cell_type": "code",
   "execution_count": 19,
   "metadata": {},
   "outputs": [
    {
     "name": "stdout",
     "output_type": "stream",
     "text": [
      "DejaVu Sans\n",
      "DejaVu Sans Display\n",
      "DejaVu Sans Mono\n",
      "DejaVu Serif\n",
      "DejaVu Serif Display\n",
      "STIXGeneral\n",
      "STIXNonUnicode\n",
      "STIXSizeFiveSym\n",
      "STIXSizeFourSym\n",
      "STIXSizeOneSym\n",
      "STIXSizeThreeSym\n",
      "STIXSizeTwoSym\n",
      "cmb10\n",
      "cmex10\n",
      "cmmi10\n",
      "cmr10\n",
      "cmss10\n",
      "cmsy10\n",
      "cmtt10\n"
     ]
    }
   ],
   "source": [
    "from matplotlib.font_manager import fontManager\n",
    "for i in sorted(fontManager.get_font_names()):\n",
    "    print(i)"
   ]
  },
  {
   "cell_type": "code",
   "execution_count": null,
   "metadata": {},
   "outputs": [],
   "source": [
    "axes.get_xaxis"
   ]
  }
 ],
 "metadata": {
  "kernelspec": {
   "display_name": "Python 3",
   "language": "python",
   "name": "python3"
  },
  "language_info": {
   "codemirror_mode": {
    "name": "ipython",
    "version": 3
   },
   "file_extension": ".py",
   "mimetype": "text/x-python",
   "name": "python",
   "nbconvert_exporter": "python",
   "pygments_lexer": "ipython3",
   "version": "3.10.13"
  }
 },
 "nbformat": 4,
 "nbformat_minor": 2
}
