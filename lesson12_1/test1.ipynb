{
 "cells": [
  {
   "cell_type": "code",
   "execution_count": 1,
   "metadata": {},
   "outputs": [],
   "source": [
    "stu1 = {\n",
    "    '姓名':'陳怡伶',\n",
    "    '國文':89,\n",
    "    '英文':92,\n",
    "    '數學':83,\n",
    "    '地理':91,\n",
    "    '歷史':65,\n",
    "    }\n",
    "\n",
    "stu2 = {\n",
    "    '姓名':'馮芳如',\n",
    "    '國文':92,\n",
    "    '英文':75,\n",
    "    '數學':92,\n",
    "    '地理':89,\n",
    "    '歷史':77,\n",
    "    }"
   ]
  },
  {
   "cell_type": "code",
   "execution_count": 2,
   "metadata": {},
   "outputs": [
    {
     "data": {
      "text/plain": [
       "[{'姓名': '陳怡伶', '國文': 89, '英文': 92, '數學': 83, '地理': 91, '歷史': 65},\n",
       " {'姓名': '馮芳如', '國文': 92, '英文': 75, '數學': 92, '地理': 89, '歷史': 77}]"
      ]
     },
     "execution_count": 2,
     "metadata": {},
     "output_type": "execute_result"
    }
   ],
   "source": [
    "students = [stu1,stu2]\n",
    "students"
   ]
  },
  {
   "cell_type": "code",
   "execution_count": 17,
   "metadata": {},
   "outputs": [
    {
     "data": {
      "text/plain": [
       "[{'姓名': '吳明妮', '國文': 14, '英文': 21, '數學': 2, '地理': 42, '歷史': 55},\n",
       " {'姓名': '陳信念', '國文': 64, '英文': 74, '數學': 11, '地理': 75, '歷史': 79},\n",
       " {'姓名': '杜儀鳳', '國文': 23, '英文': 67, '數學': 63, '地理': 48, '歷史': 62},\n",
       " {'姓名': '楊少亮', '國文': 76, '英文': 76, '數學': 69, '地理': 6, '歷史': 16},\n",
       " {'姓名': '林柏洋', '國文': 93, '英文': 49, '數學': 49, '地理': 82, '歷史': 94},\n",
       " {'姓名': '崔孝憲', '國文': 74, '英文': 26, '數學': 47, '地理': 25, '歷史': 29}]"
      ]
     },
     "execution_count": 17,
     "metadata": {},
     "output_type": "execute_result"
    }
   ],
   "source": [
    "from random import randint,choices\n",
    "# a=亂數 從names.txt 抽取a個 names\n",
    "def getStudents(a:int) -> list[dict]:\n",
    "    students:list[str] = []\n",
    "    with open('names.txt',mode='r',encoding='utf-8') as file:\n",
    "        names:str = file.read()\n",
    "    nameList:list[str] = names.split('\\n')\n",
    "    names :list[str]= choices(nameList,k=a)\n",
    "    \n",
    "\n",
    "    for i in range(a):\n",
    "        stu = {\n",
    "        '姓名':names[i],\n",
    "        '國文':randint(0,100),\n",
    "        '英文':randint(0,100),\n",
    "        '數學':randint(0,100),\n",
    "        '地理':randint(0,100),\n",
    "        '歷史':randint(0,100),\n",
    "        }\n",
    "        students.append(stu)\n",
    " \n",
    "    return students\n",
    "\n",
    "students = getStudents(6)\n",
    "students"
   ]
  },
  {
   "cell_type": "code",
   "execution_count": 18,
   "metadata": {},
   "outputs": [
    {
     "name": "stdout",
     "output_type": "stream",
     "text": [
      "請輸入學生的人數(1~50):3\n"
     ]
    },
    {
     "data": {
      "text/plain": [
       "[{'姓名': '林佳蓉', '國文': 47, '英文': 33, '數學': 77, '地理': 36, '歷史': 63},\n",
       " {'姓名': '陳奇瑄', '國文': 52, '英文': 89, '數學': 70, '地理': 23, '歷史': 43},\n",
       " {'姓名': '林昱芳', '國文': 9, '英文': 26, '數學': 25, '地理': 10, '歷史': 5}]"
      ]
     },
     "execution_count": 18,
     "metadata": {},
     "output_type": "execute_result"
    }
   ],
   "source": [
    "import pyinputplus as pyip\n",
    "s_nums:int = pyip.inputInt(\"請輸入學生的人數(1~50):\",min=1,max=50)\n",
    "print(s_nums)\n",
    "students= getStudents(s_nums)\n",
    "students"
   ]
  },
  {
   "cell_type": "code",
   "execution_count": 55,
   "metadata": {},
   "outputs": [
    {
     "name": "stdout",
     "output_type": "stream",
     "text": [
      "寫入成功\n"
     ]
    }
   ],
   "source": [
    "import csv\n",
    "from csv import DictWriter\n",
    "\n",
    "def save_to_csv(students:list[dict],fileName:str)->None:\n",
    "    \n",
    "    fileNameWithExtension:str = fileName +'.csv'\n",
    "    with open(fileNameWithExtension,mode='w',encoding='utf-8',newline='') as file:\n",
    "        filesnames:list[str] = ['姓名','國文','英文','數學', '地理', '歷史']\n",
    "        writer:DictWriter = csv.DictWriter(file,fieldnames= filesnames)\n",
    "        writer.writeheader()\n",
    "        writer.writerows(students)\n",
    "print(\"寫入成功\")\n",
    "\n",
    "save_to_csv(students,'C2')"
   ]
  },
  {
   "cell_type": "code",
   "execution_count": 56,
   "metadata": {},
   "outputs": [
    {
     "name": "stdout",
     "output_type": "stream",
     "text": [
      "請輸入檔案名稱(不用輸入副檔名):"
     ]
    }
   ],
   "source": [
    "fileName = pyip.inputFilename(\"請輸入檔案名稱(不用輸入副檔名):\")\n",
    "save_to_csv(students,fileName)"
   ]
  }
 ],
 "metadata": {
  "kernelspec": {
   "display_name": "Python 3",
   "language": "python",
   "name": "python3"
  },
  "language_info": {
   "codemirror_mode": {
    "name": "ipython",
    "version": 3
   },
   "file_extension": ".py",
   "mimetype": "text/x-python",
   "name": "python",
   "nbconvert_exporter": "python",
   "pygments_lexer": "ipython3",
   "version": "3.10.8"
  }
 },
 "nbformat": 4,
 "nbformat_minor": 2
}
