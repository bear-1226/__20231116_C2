{
 "cells": [
  {
   "cell_type": "code",
   "execution_count": 1,
   "metadata": {},
   "outputs": [
    {
     "data": {
      "text/plain": [
       "15"
      ]
     },
     "execution_count": 1,
     "metadata": {},
     "output_type": "execute_result"
    }
   ],
   "source": [
    "n = 5\n",
    "m = 10\n",
    "a = n + m\n",
    "a"
   ]
  },
  {
   "cell_type": "code",
   "execution_count": 7,
   "metadata": {},
   "outputs": [
    {
     "data": {
      "text/plain": [
       "15"
      ]
     },
     "execution_count": 7,
     "metadata": {},
     "output_type": "execute_result"
    }
   ],
   "source": [
    "#使用input(),請使用者自行輸入值\n",
    "n=int(input('請輸入n的值:'))\n",
    "m=int(input('請輸入m的值:'))\n",
    "a=m+n\n",
    "a"
   ]
  },
  {
   "cell_type": "code",
   "execution_count": 8,
   "metadata": {},
   "outputs": [
    {
     "data": {
      "text/plain": [
       "31.39"
      ]
     },
     "execution_count": 8,
     "metadata": {},
     "output_type": "execute_result"
    }
   ],
   "source": [
    "#使用input(),請使用者自行輸入值\n",
    "n=eval(input('請輸入n的值:'))\n",
    "m=eval(input('請輸入m的值:'))\n",
    "a=m+n\n",
    "a"
   ]
  },
  {
   "cell_type": "code",
   "execution_count": 9,
   "metadata": {},
   "outputs": [
    {
     "name": "stdout",
     "output_type": "stream",
     "text": [
      "3\n",
      "3 5 ab 3.145\n"
     ]
    }
   ],
   "source": [
    "#1個引數值\n",
    "print(3)\n",
    "#2個引數值\n",
    "print(3,'5','ab',3.145)"
   ]
  },
  {
   "cell_type": "code",
   "execution_count": 1,
   "metadata": {},
   "outputs": [
    {
     "name": "stdout",
     "output_type": "stream",
     "text": [
      "3.15 + 4.567 = 7.7170000000000005\n"
     ]
    }
   ],
   "source": [
    "#使用input(),請使用者自行輸入值\n",
    "n = eval(input('請輸入n的值:'))\n",
    "m = eval(input('請輸入m的值:'))\n",
    "total = n + m\n",
    "print(n, '+', m, '=', total)\n"
   ]
  },
  {
   "cell_type": "code",
   "execution_count": 2,
   "metadata": {},
   "outputs": [
    {
     "name": "stdout",
     "output_type": "stream",
     "text": [
      "3.1415926+1.23456=4.3761526\n"
     ]
    }
   ],
   "source": [
    "#使用input(),請使用者自行輸入值\n",
    "n = eval(input('請輸入n的值:'))\n",
    "m = eval(input('請輸入m的值:'))\n",
    "total = n + m\n",
    "#字串插補\n",
    "print(f\"{n}+{m}={total}\")"
   ]
  }
 ],
 "metadata": {
  "kernelspec": {
   "display_name": "Python 3",
   "language": "python",
   "name": "python3"
  },
  "language_info": {
   "codemirror_mode": {
    "name": "ipython",
    "version": 3
   },
   "file_extension": ".py",
   "mimetype": "text/x-python",
   "name": "python",
   "nbconvert_exporter": "python",
   "pygments_lexer": "ipython3",
   "version": "3.10.13"
  }
 },
 "nbformat": 4,
 "nbformat_minor": 2
}
