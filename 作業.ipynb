{
 "cells": [
  {
   "cell_type": "code",
   "execution_count": 24,
   "metadata": {},
   "outputs": [
    {
     "name": "stdout",
     "output_type": "stream",
     "text": [
      "請輸入身高,單位為公分:177.5\n",
      "請輸入體重,單位為公斤:80.1\n",
      "您的BMI是25.42353\n",
      "您的體重{過重}\n"
     ]
    }
   ],
   "source": [
    "#請依據 BMI 值分析他人的身體狀況\n",
    "#使用邏輯運算子\n",
    "\n",
    "import pyinputplus as pyip\n",
    "height = pyip.inputFloat(\"請輸入身高,單位為公分:\",min=3)\n",
    "print(height)\n",
    "weight = pyip.inputFloat(\"請輸入體重,單位為公斤:\",min=0)\n",
    "print(weight)\n",
    "count = weight/(height/100)**2\n",
    "print(f\"您的BMI是{count:.5f}\")\n",
    "if count<18.5:\n",
    "    print (\"您的體重{過輕}\")\n",
    "elif count <24:\n",
    "    print (\"您的體重在{正常範圍}\") \n",
    "elif count <27:\n",
    "    print (\"您的體重{過重}\")     \n",
    "elif count <30:\n",
    "    print (\"您的體重{輕度肥胖}\")   \n",
    "elif count <35:\n",
    "    print (\"您的體重{中度肥胖}\")  \n",
    "else:\n",
    "    print (\"您的體重{重度肥胖}\") "
   ]
  },
  {
   "cell_type": "code",
   "execution_count": 25,
   "metadata": {},
   "outputs": [
    {
     "name": "stdout",
     "output_type": "stream",
     "text": [
      "10的所有因數是: [1, 2, 5, 10]\n"
     ]
    }
   ],
   "source": [
    "num = int(input(\"請輸入整數，求所有因數:\"))\n",
    "\n",
    "factors = []\n",
    "for i in range(1, num + 1):\n",
    "    if num % i == 0:\n",
    "        factors.append(i)\n",
    "\n",
    "print(f\"{num}的所有因數是: {factors}\")"
   ]
  }
 ],
 "metadata": {
  "kernelspec": {
   "display_name": "Python 3",
   "language": "python",
   "name": "python3"
  },
  "language_info": {
   "codemirror_mode": {
    "name": "ipython",
    "version": 3
   },
   "file_extension": ".py",
   "mimetype": "text/x-python",
   "name": "python",
   "nbconvert_exporter": "python",
   "pygments_lexer": "ipython3",
   "version": "3.10.13"
  }
 },
 "nbformat": 4,
 "nbformat_minor": 2
}
