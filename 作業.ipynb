{
 "cells": [
  {
   "cell_type": "code",
   "execution_count": 24,
   "metadata": {},
   "outputs": [
    {
     "name": "stdout",
     "output_type": "stream",
     "text": [
      "請輸入身高,單位為公分:177.5\n",
      "請輸入體重,單位為公斤:80.1\n",
      "您的BMI是25.42353\n",
      "您的體重{過重}\n"
     ]
    }
   ],
   "source": [
    "#請依據 BMI 值分析他人的身體狀況\n",
    "#使用邏輯運算子\n",
    "\n",
    "import pyinputplus as pyip\n",
    "height = pyip.inputFloat(\"請輸入身高,單位為公分:\",min=3)\n",
    "print(height)\n",
    "weight = pyip.inputFloat(\"請輸入體重,單位為公斤:\",min=0)\n",
    "print(weight)\n",
    "count = weight/(height/100)**2\n",
    "print(f\"您的BMI是{count:.5f}\")\n",
    "if count<18.5:\n",
    "    print (\"您的體重{過輕}\")\n",
    "elif count <24:\n",
    "    print (\"您的體重在{正常範圍}\") \n",
    "elif count <27:\n",
    "    print (\"您的體重{過重}\")     \n",
    "elif count <30:\n",
    "    print (\"您的體重{輕度肥胖}\")   \n",
    "elif count <35:\n",
    "    print (\"您的體重{中度肥胖}\")  \n",
    "else:\n",
    "    print (\"您的體重{重度肥胖}\") "
   ]
  },
  {
   "cell_type": "code",
   "execution_count": 25,
   "metadata": {},
   "outputs": [
    {
     "name": "stdout",
     "output_type": "stream",
     "text": [
      "10的所有因數是: [1, 2, 5, 10]\n"
     ]
    }
   ],
   "source": [
    "num = int(input(\"請輸入整數，求所有因數:\"))\n",
    "\n",
    "factors = []\n",
    "for i in range(1, num + 1):\n",
    "    if num % i == 0:\n",
    "        factors.append(i)\n",
    "\n",
    "print(f\"{num}的所有因數是: {factors}\")"
   ]
  },
  {
   "cell_type": "code",
   "execution_count": 4,
   "metadata": {},
   "outputs": [
    {
     "name": "stdout",
     "output_type": "stream",
     "text": [
      "應用程式結束\n"
     ]
    }
   ],
   "source": [
    "#顯示:\n",
    "#奇數輸出平方\n",
    "#偶數不做任何動作\n",
    "#'q'要離開\n",
    "#輸入'q','Q','quit','Quit','QUIT'都可以離開程式\n",
    "exit = ['q','Q','quit','Quit','QUIT']\n",
    "while(True):\n",
    "    value = input(\"請輸入整數,輸入['q','Q','quit','Quit','QUIT']離開:\")\n",
    "    if value in exit :\n",
    "        break\n",
    "    \n",
    "    try:\n",
    "        valueInt = int(value)\n",
    "    except:\n",
    "        print(f\"{value}格式錯誤\")\n",
    "        continue\n",
    "    \n",
    "    if valueInt % 2 == 1:\n",
    "        print(f\"{valueInt}的平方是{valueInt ** 2}\")\n",
    "    else:\n",
    "        print(\"不做事\")\n",
    "\n",
    "print(\"應用程式結束\")"
   ]
  },
  {
   "cell_type": "code",
   "execution_count": 5,
   "metadata": {},
   "outputs": [
    {
     "name": "stdout",
     "output_type": "stream",
     "text": [
      "請輸入身高，單位為公分:177.0\n",
      "請輸入體重，單位為公斤:75.0\n",
      "您的BMI是23.94,「您的體重正常」\n",
      "請問還要繼續嗎?(y,n)請輸入身高，單位為公分:177.0\n",
      "請輸入體重，單位為公斤:75.0\n",
      "您的BMI是23.94,「您的體重正常」\n",
      "請問還要繼續嗎?(y,n)/n 結束計算\n"
     ]
    }
   ],
   "source": [
    "import pyinputplus as pyip\n",
    "\n",
    "def getBMI(height:float, weight:float) -> tuple[float,str]:\n",
    "    BMI = weight / (height*0.01)**2\n",
    "    message = \"\"\n",
    "    if BMI < 18.5:\n",
    "        message = \"「您的體重過輕」\"\n",
    "    elif BMI < 24:        \n",
    "        message = \"「您的體重正常」\"\n",
    "    \n",
    "    elif BMI < 27:        \n",
    "        message = \"「您的體重過重」\"\n",
    "\n",
    "    elif BMI < 30:        \n",
    "        message = \"「您的體重輕度肥胖」\"\n",
    "\n",
    "    elif BMI < 35:        \n",
    "        message = \"「您的體重中度肥胖」\"\n",
    "\n",
    "    else:        \n",
    "        message = \"「您的體重重度肥胖」\"\n",
    "\n",
    "    return (BMI,message)\n",
    "\n",
    "    \n",
    "\n",
    "while(True):\n",
    "    h = pyip.inputFloat(\"請輸入身高，單位為公分:\",min = 0)\n",
    "    print(h)\n",
    "    w = pyip.inputFloat(\"請輸入體重，單位為公斤:\",min = 0)\n",
    "    print(w)\n",
    "    bmi, message = getBMI(height=h,weight=w)\n",
    "    print(f\"您的BMI是{bmi:.2f},{message}\")\n",
    "    is_continue = pyip.inputYesNo(\"請問還要繼續嗎?(y,n)\")\n",
    "    if is_continue != \"yes\":\n",
    "        break\n",
    "print(\"結束計算\")"
   ]
  }
 ],
 "metadata": {
  "kernelspec": {
   "display_name": "Python 3",
   "language": "python",
   "name": "python3"
  },
  "language_info": {
   "codemirror_mode": {
    "name": "ipython",
    "version": 3
   },
   "file_extension": ".py",
   "mimetype": "text/x-python",
   "name": "python",
   "nbconvert_exporter": "python",
   "pygments_lexer": "ipython3",
   "version": "3.10.13"
  }
 },
 "nbformat": 4,
 "nbformat_minor": 2
}
