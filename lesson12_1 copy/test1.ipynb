{
 "cells": [
  {
   "cell_type": "code",
   "execution_count": 2,
   "metadata": {},
   "outputs": [],
   "source": [
    "stu1 = {\n",
    "    '姓名':'陳怡伶',\n",
    "    '國文':89,\n",
    "    '英文':92,\n",
    "    '數學':83,\n",
    "    '地理':91,\n",
    "    '歷史':65,\n",
    "    }\n",
    "\n",
    "stu2 = {\n",
    "    '姓名':'馮芳如',\n",
    "    '國文':92,\n",
    "    '英文':75,\n",
    "    '數學':92,\n",
    "    '地理':89,\n",
    "    '歷史':77,\n",
    "    }"
   ]
  },
  {
   "cell_type": "code",
   "execution_count": 3,
   "metadata": {},
   "outputs": [
    {
     "data": {
      "text/plain": [
       "[{'姓名': '陳怡伶', '國文': 89, '英文': 92, '數學': 83, '地理': 91, '歷史': 65},\n",
       " {'姓名': '馮芳如', '國文': 92, '英文': 75, '數學': 92, '地理': 89, '歷史': 77}]"
      ]
     },
     "execution_count": 3,
     "metadata": {},
     "output_type": "execute_result"
    }
   ],
   "source": [
    "students = [stu1,stu2]\n",
    "students"
   ]
  },
  {
   "cell_type": "code",
   "execution_count": 42,
   "metadata": {},
   "outputs": [
    {
     "data": {
      "text/plain": [
       "[{'姓名': '童建霖', '國文': 79, '英文': 100, '數學': 35, '地理': 32, '歷史': 85},\n",
       " {'姓名': '王雅慧', '國文': 9, '英文': 98, '數學': 34, '地理': 46, '歷史': 59},\n",
       " {'姓名': '蕭怡伶', '國文': 3, '英文': 47, '數學': 17, '地理': 100, '歷史': 94},\n",
       " {'姓名': '蕭怡伶', '國文': 50, '英文': 76, '數學': 3, '地理': 24, '歷史': 13},\n",
       " {'姓名': '楊火帆', '國文': 56, '英文': 8, '數學': 94, '地理': 67, '歷史': 9}]"
      ]
     },
     "execution_count": 42,
     "metadata": {},
     "output_type": "execute_result"
    }
   ],
   "source": [
    "from random import randint,choices\n",
    "\n",
    "def getStudents(nums:int) -> list[dict]:\n",
    "    students:list[str] = []\n",
    "    with open('names.txt',mode='r',encoding='utf-8') as file:\n",
    "        names:str = file.read()\n",
    "    nameList:list[str] = names.split('\\n')\n",
    "    names :list[str]= choices(nameList,k=nums)\n",
    "    \n",
    "    for i in range(nums):\n",
    "        stu = {\n",
    "        '姓名':names[i],\n",
    "        '國文':randint(0,100),\n",
    "        '英文':randint(0,100),\n",
    "        '數學':randint(0,100),\n",
    "        '地理':randint(0,100),\n",
    "        '歷史':randint(0,100),\n",
    "        }\n",
    "        students.append(stu)\n",
    "    \n",
    "    return students\n",
    "\n",
    "students = getStudents(5)\n",
    "students"
   ]
  },
  {
   "cell_type": "code",
   "execution_count": 45,
   "metadata": {},
   "outputs": [
    {
     "name": "stdout",
     "output_type": "stream",
     "text": [
      "請輸入學生的人數(1~50):10\n"
     ]
    },
    {
     "data": {
      "text/plain": [
       "[{'姓名': '楊火帆', '國文': 56, '英文': 13, '數學': 75, '地理': 87, '歷史': 40},\n",
       " {'姓名': '楊建安', '國文': 18, '英文': 78, '數學': 90, '地理': 28, '歷史': 6},\n",
       " {'姓名': '簡美君', '國文': 77, '英文': 31, '數學': 98, '地理': 73, '歷史': 24},\n",
       " {'姓名': '游倫城', '國文': 55, '英文': 80, '數學': 32, '地理': 79, '歷史': 75},\n",
       " {'姓名': '簡國瑋', '國文': 89, '英文': 29, '數學': 20, '地理': 4, '歷史': 20},\n",
       " {'姓名': '林向鈺', '國文': 47, '英文': 9, '數學': 49, '地理': 74, '歷史': 34},\n",
       " {'姓名': '李淑芳', '國文': 20, '英文': 54, '數學': 98, '地理': 64, '歷史': 93},\n",
       " {'姓名': '方筠紹', '國文': 41, '英文': 0, '數學': 43, '地理': 28, '歷史': 26},\n",
       " {'姓名': '黃名明', '國文': 59, '英文': 71, '數學': 31, '地理': 17, '歷史': 80},\n",
       " {'姓名': '陳倩潔', '國文': 74, '英文': 15, '數學': 18, '地理': 42, '歷史': 48}]"
      ]
     },
     "execution_count": 45,
     "metadata": {},
     "output_type": "execute_result"
    }
   ],
   "source": [
    "import pyinputplus as pyip\n",
    "s_nums:int = pyip.inputInt(\"請輸入學生的人數(1~50):\",min=1,max=50)\n",
    "print(s_nums)\n",
    "students= getStudents(s_nums)\n",
    "students"
   ]
  },
  {
   "cell_type": "code",
   "execution_count": 55,
   "metadata": {},
   "outputs": [
    {
     "name": "stdout",
     "output_type": "stream",
     "text": [
      "寫入成功\n"
     ]
    }
   ],
   "source": [
    "import csv\n",
    "from csv import DictWriter\n",
    "\n",
    "def save_to_csv(students:list[dict],fileName:str)->None:\n",
    "    \n",
    "    fileNameWithExtension:str = fileName +'.csv'\n",
    "    with open(fileNameWithExtension,mode='w',encoding='utf-8',newline='') as file:\n",
    "        filesnames:list[str] = ['姓名','國文','英文','數學', '地理', '歷史']\n",
    "        writer:DictWriter = csv.DictWriter(file,fieldnames= filesnames)\n",
    "        writer.writeheader()\n",
    "        writer.writerows(students)\n",
    "print(\"寫入成功\")\n",
    "\n",
    "save_to_csv(students,'C2')"
   ]
  },
  {
   "cell_type": "code",
   "execution_count": 56,
   "metadata": {},
   "outputs": [
    {
     "name": "stdout",
     "output_type": "stream",
     "text": [
      "請輸入檔案名稱(不用輸入副檔名):"
     ]
    }
   ],
   "source": [
    "fileName = pyip.inputFilename(\"請輸入檔案名稱(不用輸入副檔名):\")\n",
    "save_to_csv(students,fileName)"
   ]
  }
 ],
 "metadata": {
  "kernelspec": {
   "display_name": "Python 3",
   "language": "python",
   "name": "python3"
  },
  "language_info": {
   "codemirror_mode": {
    "name": "ipython",
    "version": 3
   },
   "file_extension": ".py",
   "mimetype": "text/x-python",
   "name": "python",
   "nbconvert_exporter": "python",
   "pygments_lexer": "ipython3",
   "version": "3.10.13"
  }
 },
 "nbformat": 4,
 "nbformat_minor": 2
}
