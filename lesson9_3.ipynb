{
 "cells": [
  {
   "cell_type": "code",
   "execution_count": 26,
   "metadata": {},
   "outputs": [],
   "source": [
    "class Student:\n",
    "    def __init__(self,n,c,e,m):\n",
    "        #attribute(屬性)\n",
    "        self.__name = n #不可取出&修改\n",
    "        self.chinese = c #可修改的屬性\n",
    "        self.english = e\n",
    "        self.math = m\n",
    "\n",
    "    @property   #property(屬性)\n",
    "    def name(self):\n",
    "        return self.__name\n",
    "    \n",
    "    def sum(self): #實體方法(method)\n",
    "        return self.chinese + self.english + self.math\n",
    "    def average(self):\n",
    "        return self.sum() / 3.0\n",
    "    \n",
    "    def __repr__(self):\n",
    "        description = \"\"\n",
    "        description += '我是Student的實體\\n'\n",
    "        description += f'name是{self.name}\\n'\n",
    "        description += f'Chinese是{self.chinese}\\n'\n",
    "        description += f'English是{self.english}\\n'\n",
    "        description += f'Math是{self.math}\\n'\n",
    "        return description"
   ]
  },
  {
   "cell_type": "code",
   "execution_count": 28,
   "metadata": {},
   "outputs": [
    {
     "name": "stdout",
     "output_type": "stream",
     "text": [
      "我是Student的實體\n",
      "name是Andy\n",
      "Chinese是78\n",
      "English是66\n",
      "Math是80\n",
      "\n",
      "學生總分是:224\n",
      "學生平均是:74.67\n"
     ]
    }
   ],
   "source": [
    "stu1 = Student(\"Andy\",78,66,80)\n",
    "print(stu1)\n",
    "print(f'學生總分是:{stu1.sum()}')\n",
    "print(f'學生平均是:{stu1.average():.2f}')\n"
   ]
  },
  {
   "cell_type": "code",
   "execution_count": 17,
   "metadata": {},
   "outputs": [
    {
     "name": "stdout",
     "output_type": "stream",
     "text": [
      "100\n",
      "100\n",
      "100\n",
      "學生總分是:300\n",
      "學生平均是:100.00\n"
     ]
    }
   ],
   "source": [
    "#stu1.name = \"徐xx\" #property不可以修改內容\n",
    "stu1.chinese = 100\n",
    "stu1.english = 100\n",
    "stu1.math = 100\n",
    "\n",
    "\n",
    "print(stu1.chinese)\n",
    "print(stu1.english)\n",
    "print(stu1.math)\n",
    "print(f'學生總分是:{stu1.sum()}')\n",
    "print(f'學生平均是:{stu1.average():.2f}')"
   ]
  },
  {
   "cell_type": "code",
   "execution_count": 30,
   "metadata": {},
   "outputs": [
    {
     "name": "stdout",
     "output_type": "stream",
     "text": [
      "我是Student的實體\n",
      "name是Max\n",
      "Chinese是60\n",
      "English是98\n",
      "Math是80\n",
      "\n",
      "學生總分是:238\n",
      "學生平均是:79.33\n"
     ]
    }
   ],
   "source": [
    "stu2 = Student(\"Max\",60,98,80)\n",
    "print(stu2)\n",
    "print(f'學生總分是:{stu2.sum()}')\n",
    "print(f'學生平均是:{stu2.average():.2f}')"
   ]
  }
 ],
 "metadata": {
  "kernelspec": {
   "display_name": "Python 3",
   "language": "python",
   "name": "python3"
  },
  "language_info": {
   "codemirror_mode": {
    "name": "ipython",
    "version": 3
   },
   "file_extension": ".py",
   "mimetype": "text/x-python",
   "name": "python",
   "nbconvert_exporter": "python",
   "pygments_lexer": "ipython3",
   "version": "3.10.13"
  }
 },
 "nbformat": 4,
 "nbformat_minor": 2
}
